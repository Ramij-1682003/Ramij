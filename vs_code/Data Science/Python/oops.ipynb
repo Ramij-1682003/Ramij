{
 "cells": [
  {
   "cell_type": "code",
   "execution_count": 1,
   "id": "5eb28094",
   "metadata": {},
   "outputs": [],
   "source": [
    "class name:\n",
    "    # print(\"ramij\")\n",
    "    def n():\n",
    "        print(\"Ramij\")"
   ]
  },
  {
   "cell_type": "code",
   "execution_count": 2,
   "id": "94f7e07d",
   "metadata": {},
   "outputs": [
    {
     "name": "stdout",
     "output_type": "stream",
     "text": [
      "Ramij\n"
     ]
    }
   ],
   "source": [
    "name.n()"
   ]
  },
  {
   "cell_type": "code",
   "execution_count": 3,
   "id": "7ebfb997",
   "metadata": {},
   "outputs": [
    {
     "name": "stdout",
     "output_type": "stream",
     "text": [
      "Ramij\n"
     ]
    }
   ],
   "source": [
    "a=name\n",
    "a.n()"
   ]
  },
  {
   "cell_type": "code",
   "execution_count": 4,
   "id": "dd3b7ff3",
   "metadata": {},
   "outputs": [],
   "source": [
    "#Constrauctor\n",
    "class name:\n",
    "    def _init_(self,S_id,P_num,E_mail):\n",
    "        self.S_id=S_id\n",
    "        self.P_num=P_num\n",
    "        self.E_mail=E_mail\n",
    "    def display(self):\n",
    "        return self.S_id,self.P_num,self.E_mail\n"
   ]
  },
  {
   "cell_type": "code",
   "execution_count": 5,
   "id": "75fc6ab3",
   "metadata": {},
   "outputs": [
    {
     "data": {
      "text/plain": [
       "(1, 2, 3)"
      ]
     },
     "execution_count": 5,
     "metadata": {},
     "output_type": "execute_result"
    }
   ],
   "source": [
    "n=name()# object creation\n",
    "n._init_(1,2,3)# passing values\n",
    "n.display()#display values"
   ]
  },
  {
   "cell_type": "code",
   "execution_count": 6,
   "id": "9afc848e",
   "metadata": {},
   "outputs": [
    {
     "data": {
      "text/plain": [
       "(4, 5, 6)"
      ]
     },
     "execution_count": 6,
     "metadata": {},
     "output_type": "execute_result"
    }
   ],
   "source": [
    "m=name()\n",
    "m._init_(4,5,6)\n",
    "m.display()"
   ]
  },
  {
   "cell_type": "code",
   "execution_count": 7,
   "id": "039bfde6",
   "metadata": {},
   "outputs": [
    {
     "data": {
      "text/plain": [
       "3"
      ]
     },
     "execution_count": 7,
     "metadata": {},
     "output_type": "execute_result"
    }
   ],
   "source": [
    "n.E_mail # accessing the value of E_mail"
   ]
  },
  {
   "cell_type": "code",
   "execution_count": null,
   "id": "68eecbbb",
   "metadata": {},
   "outputs": [],
   "source": []
  }
 ],
 "metadata": {
  "kernelspec": {
   "display_name": "Python 3",
   "language": "python",
   "name": "python3"
  },
  "language_info": {
   "codemirror_mode": {
    "name": "ipython",
    "version": 3
   },
   "file_extension": ".py",
   "mimetype": "text/x-python",
   "name": "python",
   "nbconvert_exporter": "python",
   "pygments_lexer": "ipython3",
   "version": "3.13.2"
  }
 },
 "nbformat": 4,
 "nbformat_minor": 5
}
