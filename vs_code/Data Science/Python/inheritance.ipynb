{
 "cells": [
  {
   "cell_type": "code",
   "execution_count": 1,
   "id": "6703b6c4",
   "metadata": {},
   "outputs": [],
   "source": [
    "class parent:\n",
    "    def a(self):\n",
    "        return \"Ramij\"\n",
    "    def b(self):\n",
    "        return \" Ikbal\"\n",
    "class child(parent):\n",
    "    pass\n",
    "\n",
    "    "
   ]
  },
  {
   "cell_type": "code",
   "execution_count": 2,
   "id": "904ac12e",
   "metadata": {},
   "outputs": [
    {
     "data": {
      "text/plain": [
       "'Ramij'"
      ]
     },
     "execution_count": 2,
     "metadata": {},
     "output_type": "execute_result"
    }
   ],
   "source": [
    "p=child()\n",
    "p.a()"
   ]
  },
  {
   "cell_type": "code",
   "execution_count": null,
   "id": "e8abc0c6",
   "metadata": {},
   "outputs": [],
   "source": []
  }
 ],
 "metadata": {
  "kernelspec": {
   "display_name": "Python 3",
   "language": "python",
   "name": "python3"
  },
  "language_info": {
   "codemirror_mode": {
    "name": "ipython",
    "version": 3
   },
   "file_extension": ".py",
   "mimetype": "text/x-python",
   "name": "python",
   "nbconvert_exporter": "python",
   "pygments_lexer": "ipython3",
   "version": "3.13.2"
  }
 },
 "nbformat": 4,
 "nbformat_minor": 5
}
