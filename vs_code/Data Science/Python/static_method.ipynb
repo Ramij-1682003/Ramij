{
 "cells": [
  {
   "cell_type": "code",
   "execution_count": 1,
   "id": "e5ad7edd",
   "metadata": {},
   "outputs": [],
   "source": [
    "class skill:\n",
    "    def studet_details(self,name,email,ph_no):\n",
    "        print(name,email,ph_no)"
   ]
  },
  {
   "cell_type": "code",
   "execution_count": 2,
   "id": "29711112",
   "metadata": {},
   "outputs": [
    {
     "name": "stdout",
     "output_type": "stream",
     "text": [
      "sudheer ramij 12345\n"
     ]
    }
   ],
   "source": [
    "sk=skill()\n",
    "sk.studet_details(\"sudheer\",\"ramij\",12345)\n"
   ]
  },
  {
   "cell_type": "code",
   "execution_count": 3,
   "id": "aa0e4eed",
   "metadata": {},
   "outputs": [],
   "source": [
    "class skill1:\n",
    "    def studet_details(self,name,email,ph_no):\n",
    "        print(name,email,ph_no)\n",
    "    \n",
    "    @staticmethod           # help to call the method without creating an object\n",
    "    def mentor(list_mentor):\n",
    "        print(list_mentor)"
   ]
  },
  {
   "cell_type": "code",
   "execution_count": 4,
   "id": "be4610f2",
   "metadata": {},
   "outputs": [
    {
     "name": "stdout",
     "output_type": "stream",
     "text": [
      "['sudheer', 'ramij', 'srinivas']\n"
     ]
    }
   ],
   "source": [
    "skill1.mentor([\"sudheer\",\"ramij\",\"srinivas\"])\n"
   ]
  },
  {
   "cell_type": "code",
   "execution_count": 5,
   "id": "68b7e9de",
   "metadata": {},
   "outputs": [],
   "source": [
    "class skill:\n",
    "    def studet_details(self,name,email,ph_no):\n",
    "        print(name,email,ph_no)\n",
    "    \n",
    "    @staticmethod\n",
    "    def mentor(mentor):\n",
    "        print(mentor)\n",
    "    \n",
    "    @classmethod\n",
    "    def mentor_details(self):\n",
    "        self.mentor([\"sudheer\",\"ramij\",\"srinivas\"])\n",
    "    \n",
    "    @staticmethod\n",
    "    def m(mentor):\n",
    "        skill.email(mentor)\n",
    "        print(mentor)"
   ]
  },
  {
   "cell_type": "code",
   "execution_count": 6,
   "id": "c75d8901",
   "metadata": {},
   "outputs": [],
   "source": [
    "# skill.mentor([\"sudheer\",\"ramij\",\"srinivas\"])"
   ]
  },
  {
   "cell_type": "code",
   "execution_count": 7,
   "id": "c943786c",
   "metadata": {},
   "outputs": [
    {
     "name": "stdout",
     "output_type": "stream",
     "text": [
      "['sudheer', 'ramij', 'srinivas']\n"
     ]
    }
   ],
   "source": [
    "skill.mentor_details()"
   ]
  },
  {
   "cell_type": "code",
   "execution_count": null,
   "id": "a08dc0d9",
   "metadata": {},
   "outputs": [],
   "source": []
  }
 ],
 "metadata": {
  "kernelspec": {
   "display_name": "Python 3",
   "language": "python",
   "name": "python3"
  },
  "language_info": {
   "codemirror_mode": {
    "name": "ipython",
    "version": 3
   },
   "file_extension": ".py",
   "mimetype": "text/x-python",
   "name": "python",
   "nbconvert_exporter": "python",
   "pygments_lexer": "ipython3",
   "version": "3.13.2"
  }
 },
 "nbformat": 4,
 "nbformat_minor": 5
}
