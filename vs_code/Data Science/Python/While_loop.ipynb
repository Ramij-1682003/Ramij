{
 "cells": [
  {
   "cell_type": "code",
   "execution_count": null,
   "metadata": {},
   "outputs": [],
   "source": [
    "a=1\n",
    "while a<=10:\n",
    "    print(a)\n",
    "    a+=1"
   ]
  },
  {
   "cell_type": "code",
   "execution_count": null,
   "metadata": {},
   "outputs": [],
   "source": [
    "n=int(input(\"Enter a number: \"))\n",
    "sum=0\n",
    "count=0\n",
    "# while count<=n:\n",
    "for count in range(n+1):\n",
    "    sum=sum+count\n",
    "    count=count+1  \n",
    "sum     # Sum"
   ]
  },
  {
   "cell_type": "code",
   "execution_count": null,
   "metadata": {},
   "outputs": [],
   "source": [
    "# Factorial\n",
    "n=int(input(\"Enter a number: \"))\n",
    "fact=1\n",
    "# while n>0:\n",
    "for i in range(n):  \n",
    "    fact=fact*n\n",
    "    n=n-1\n",
    "fact\n",
    "    "
   ]
  },
  {
   "cell_type": "code",
   "execution_count": null,
   "metadata": {},
   "outputs": [
    {
     "name": "stdout",
     "output_type": "stream",
     "text": [
      "0\n",
      "1\n",
      "1\n",
      "2\n",
      "3\n"
     ]
    }
   ],
   "source": [
    "#Fibonacci\n",
    "n=int(input(\"Enter num:\"))\n",
    "a,b=0,1\n",
    "# count=0\n",
    "# while count <n:\n",
    "#     print(a)\n",
    "#     c=a+b\n",
    "#     a=b\n",
    "#     b=c\n",
    "#     count+=1\n",
    "\n",
    "for i in range(n):\n",
    "    print(a)\n",
    "    c=a+b\n",
    "    a=b\n",
    "    b=c"
   ]
  },
  {
   "cell_type": "code",
   "execution_count": null,
   "metadata": {},
   "outputs": [
    {
     "data": {
      "text/plain": [
       "' jimar'"
      ]
     },
     "execution_count": 14,
     "metadata": {},
     "output_type": "execute_result"
    }
   ],
   "source": [
    "#Reverse a string\n",
    "s=input(\"Enter a string: \")\n",
    "l=len(s)\n",
    "reverse= \" \"\n",
    "# while l>0:\n",
    "for i in range(l):\n",
    "    reverse=reverse+s[l-1]\n",
    "    l=l-1\n",
    "reverse\n"
   ]
  },
  {
   "cell_type": "code",
   "execution_count": 30,
   "metadata": {},
   "outputs": [
    {
     "name": "stdout",
     "output_type": "stream",
     "text": [
      "0\n",
      "2\n",
      "4\n",
      "6\n",
      "8\n",
      "10\n",
      "12\n",
      "14\n",
      "16\n",
      "18\n",
      "20\n"
     ]
    }
   ],
   "source": [
    "#Print table of number\n",
    "n=int(input(\"Enter a number: \"))\n",
    "i=0\n",
    "# while i<=10:\n",
    "for i in range(11):\n",
    "    result=n*i\n",
    "    print(result)\n",
    "    i+=1\n"
   ]
  }
 ],
 "metadata": {
  "kernelspec": {
   "display_name": "Python 3",
   "language": "python",
   "name": "python3"
  },
  "language_info": {
   "codemirror_mode": {
    "name": "ipython",
    "version": 3
   },
   "file_extension": ".py",
   "mimetype": "text/x-python",
   "name": "python",
   "nbconvert_exporter": "python",
   "pygments_lexer": "ipython3",
   "version": "3.13.2"
  }
 },
 "nbformat": 4,
 "nbformat_minor": 2
}
