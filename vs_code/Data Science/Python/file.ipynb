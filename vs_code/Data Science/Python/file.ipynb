{
 "cells": [
  {
   "cell_type": "code",
   "execution_count": 325,
   "id": "e45b1eb1",
   "metadata": {},
   "outputs": [],
   "source": [
    "f=open(\"first.txt\",\"w\")\n"
   ]
  },
  {
   "cell_type": "code",
   "execution_count": 326,
   "id": "5aa18b57",
   "metadata": {},
   "outputs": [
    {
     "data": {
      "text/plain": [
       "'d:\\\\Jupyter Lab'"
      ]
     },
     "execution_count": 326,
     "metadata": {},
     "output_type": "execute_result"
    }
   ],
   "source": [
    "pwd\n"
   ]
  },
  {
   "cell_type": "code",
   "execution_count": 327,
   "id": "9a2f2ffe",
   "metadata": {},
   "outputs": [
    {
     "name": "stdout",
     "output_type": "stream",
     "text": [
      " Volume in drive D has no label.\n",
      " Volume Serial Number is 306A-F883\n",
      "\n",
      " Directory of d:\\Jupyter Lab\n",
      "\n",
      "25-04-2025  19:18    <DIR>          .\n",
      "19-03-2025  23:58    <DIR>          .ipynb_checkpoints\n",
      "15-04-2025  11:35             3,751 class_method.ipynb\n",
      "07-04-2025  19:20             3,855 Comprehention.ipynb\n",
      "16-03-2025  01:49             1,708 Conditional_statement.ipynb\n",
      "25-04-2025  19:18               168 data.json\n",
      "25-04-2025  19:15                 0 data1.csv\n",
      "15-03-2025  16:12            23,192 Day1.ipynb\n",
      "12-04-2025  20:02             2,388 encapluation.ipynb\n",
      "25-04-2025  19:06            10,593 file.ipynb\n",
      "25-04-2025  19:19                 0 first.txt\n",
      "20-03-2025  21:18             4,673 For_loop.ipynb\n",
      "10-04-2025  09:06             8,388 Function.ipynb\n",
      "13-04-2025  19:43             1,264 inheritance.ipynb\n",
      "19-03-2025  23:58             2,049 Loop.ipynb\n",
      "24-04-2025  21:17               712 magic_dunder_method.ipynb\n",
      "11-04-2025  08:11             2,903 oops.ipynb\n",
      "11-04-2025  20:21             2,355 polymorphism.ipynb\n",
      "24-04-2025  21:42               245 second.txt\n",
      "15-04-2025  22:04             3,056 static_method.ipynb\n",
      "25-04-2025  19:18               245 third.txt\n",
      "22-03-2025  23:44             2,979 While_loop.ipynb\n",
      "              20 File(s)         74,524 bytes\n",
      "               2 Dir(s)  253,796,507,648 bytes free\n"
     ]
    }
   ],
   "source": [
    "ls"
   ]
  },
  {
   "cell_type": "code",
   "execution_count": 328,
   "id": "a19af7c0",
   "metadata": {},
   "outputs": [
    {
     "data": {
      "text/plain": [
       "11"
      ]
     },
     "execution_count": 328,
     "metadata": {},
     "output_type": "execute_result"
    }
   ],
   "source": [
    "f.write(\"Ramij Ikbal\")"
   ]
  },
  {
   "cell_type": "code",
   "execution_count": 329,
   "id": "ef2470d2",
   "metadata": {},
   "outputs": [],
   "source": [
    "f.close()"
   ]
  },
  {
   "cell_type": "code",
   "execution_count": 330,
   "id": "af3f0a6c",
   "metadata": {},
   "outputs": [],
   "source": [
    "f=open(\"first.txt\",\"w\")"
   ]
  },
  {
   "cell_type": "code",
   "execution_count": 331,
   "id": "e9c81615",
   "metadata": {},
   "outputs": [],
   "source": [
    "f.write(\"SK MD RAMIJI IKBAL\")\n",
    "f.close()"
   ]
  },
  {
   "cell_type": "code",
   "execution_count": 332,
   "id": "ca81ff2d",
   "metadata": {},
   "outputs": [],
   "source": [
    "# f.close()"
   ]
  },
  {
   "cell_type": "code",
   "execution_count": 333,
   "id": "acce8a94",
   "metadata": {},
   "outputs": [],
   "source": [
    "f=open(\"first.txt\",\"a\")\n"
   ]
  },
  {
   "cell_type": "code",
   "execution_count": 334,
   "id": "7bd0a8f6",
   "metadata": {},
   "outputs": [
    {
     "data": {
      "text/plain": [
       "12"
      ]
     },
     "execution_count": 334,
     "metadata": {},
     "output_type": "execute_result"
    }
   ],
   "source": [
    "f.write(\"hello world\\n\")"
   ]
  },
  {
   "cell_type": "code",
   "execution_count": 335,
   "id": "4ff02c0f",
   "metadata": {},
   "outputs": [],
   "source": [
    "f.close()\n",
    "f=open(\"first.txt\",\"w\")"
   ]
  },
  {
   "cell_type": "code",
   "execution_count": 336,
   "id": "4a9503de",
   "metadata": {},
   "outputs": [],
   "source": [
    "import os"
   ]
  },
  {
   "cell_type": "code",
   "execution_count": 337,
   "id": "d22028e5",
   "metadata": {},
   "outputs": [
    {
     "data": {
      "text/plain": [
       "0"
      ]
     },
     "execution_count": 337,
     "metadata": {},
     "output_type": "execute_result"
    }
   ],
   "source": [
    "os.path.getsize(\"first.txt\")"
   ]
  },
  {
   "cell_type": "code",
   "execution_count": 338,
   "id": "bf16d89e",
   "metadata": {},
   "outputs": [],
   "source": [
    "f.write(\"Hello World\")\n",
    "f.close()"
   ]
  },
  {
   "cell_type": "code",
   "execution_count": 339,
   "id": "d338fb34",
   "metadata": {},
   "outputs": [],
   "source": [
    "os.remove(\"first.txt\")"
   ]
  },
  {
   "cell_type": "code",
   "execution_count": 340,
   "id": "e569940d",
   "metadata": {},
   "outputs": [],
   "source": [
    "f=open(\"first.txt\",\"w\")"
   ]
  },
  {
   "cell_type": "code",
   "execution_count": 341,
   "id": "8f98a5f0",
   "metadata": {},
   "outputs": [
    {
     "data": {
      "text/plain": [
       "244"
      ]
     },
     "execution_count": 341,
     "metadata": {},
     "output_type": "execute_result"
    }
   ],
   "source": [
    "f.write(\"Haha okay bhanja/bhanji, chachu mode ON.Look, anime is great, no doubt — cool stories, emotions, action, and all that. But if it’s eating into your productivity or messing with your goals, time to balance the game. Here’s a plan, chachu-style:\\n\")"
   ]
  },
  {
   "cell_type": "code",
   "execution_count": 342,
   "id": "d9cdfb75",
   "metadata": {},
   "outputs": [],
   "source": [
    "f.close()"
   ]
  },
  {
   "cell_type": "code",
   "execution_count": 343,
   "id": "e1388cf2",
   "metadata": {},
   "outputs": [],
   "source": [
    "# os.rename(\"first.txt\",\"second.txt\")"
   ]
  },
  {
   "cell_type": "code",
   "execution_count": 344,
   "id": "63031db6",
   "metadata": {},
   "outputs": [],
   "source": [
    "import shutil"
   ]
  },
  {
   "cell_type": "code",
   "execution_count": 345,
   "id": "509077e7",
   "metadata": {},
   "outputs": [
    {
     "data": {
      "text/plain": [
       "'third.txt'"
      ]
     },
     "execution_count": 345,
     "metadata": {},
     "output_type": "execute_result"
    }
   ],
   "source": [
    "shutil.copy(\"second.txt\",\"third.txt\")"
   ]
  },
  {
   "cell_type": "code",
   "execution_count": 346,
   "id": "fc05abed",
   "metadata": {},
   "outputs": [
    {
     "name": "stdout",
     "output_type": "stream",
     "text": [
      "Haha okay bhanja/bhanji, chachu mode ON.Look, anime is great, no doubt — cool stories, emotions, action, and all that. But if it’s eating into your productivity or messing with your goals, time to balance the game. Here’s a plan, chachu-style:\n",
      "\n"
     ]
    }
   ],
   "source": [
    "with open(\"third.txt\",\"r\") as f:\n",
    "    print(f.read())\n"
   ]
  },
  {
   "cell_type": "code",
   "execution_count": 347,
   "id": "f3f20136",
   "metadata": {},
   "outputs": [],
   "source": [
    "# Lecture 2\n",
    "import json"
   ]
  },
  {
   "cell_type": "code",
   "execution_count": 348,
   "id": "b9857ef6",
   "metadata": {},
   "outputs": [],
   "source": [
    "data={\n",
    "    \"name\":\"Ramij Ikbal\",\n",
    "    \"age\":22,\n",
    "    \"is_student\":True,\n",
    "    \"courses\":[\"Python\",\"Java\",\"C++\"],\n",
    "    \"address\":{\n",
    "        \"city\":\"Kolkata\",\n",
    "        \"state\":\"West Bengal\",\n",
    "        \"country\":\"India\"\n",
    "    }\n",
    "}"
   ]
  },
  {
   "cell_type": "code",
   "execution_count": 349,
   "id": "00461f4c",
   "metadata": {},
   "outputs": [],
   "source": [
    "with open(\"data.json\",\"w\") as f:\n",
    "   data= json.dump(data,f)"
   ]
  },
  {
   "cell_type": "code",
   "execution_count": 350,
   "id": "ba7ad6cf",
   "metadata": {},
   "outputs": [],
   "source": [
    "with open(\"data.json\",\"r\") as f:\n",
    "    data=json.load(f)"
   ]
  },
  {
   "cell_type": "code",
   "execution_count": 351,
   "id": "23d3807e",
   "metadata": {},
   "outputs": [
    {
     "data": {
      "text/plain": [
       "{'name': 'Ramij Ikbal',\n",
       " 'age': 22,\n",
       " 'is_student': True,\n",
       " 'courses': ['Python', 'Java', 'C++'],\n",
       " 'address': {'city': 'Kolkata', 'state': 'West Bengal', 'country': 'India'}}"
      ]
     },
     "execution_count": 351,
     "metadata": {},
     "output_type": "execute_result"
    }
   ],
   "source": [
    "data"
   ]
  },
  {
   "cell_type": "code",
   "execution_count": 352,
   "id": "b7a4f5f3",
   "metadata": {},
   "outputs": [
    {
     "data": {
      "text/plain": [
       "{'city': 'Kolkata', 'state': 'West Bengal', 'country': 'India'}"
      ]
     },
     "execution_count": 352,
     "metadata": {},
     "output_type": "execute_result"
    }
   ],
   "source": [
    "data[\"address\"]\n"
   ]
  },
  {
   "cell_type": "code",
   "execution_count": 353,
   "id": "3be06254",
   "metadata": {},
   "outputs": [],
   "source": [
    "import csv "
   ]
  },
  {
   "cell_type": "code",
   "execution_count": 354,
   "id": "4b6e1bbc",
   "metadata": {},
   "outputs": [],
   "source": [
    "data1=[[\"Name\",\"Age\",\"City\"],\n",
    "        [\"Ramij\",22,\"Kolkata\"],\n",
    "        [\"John\",25,\"New York\"],\n",
    "        [\"Alice\",30,\"London\"]]"
   ]
  },
  {
   "cell_type": "code",
   "execution_count": 355,
   "id": "09bf4779",
   "metadata": {},
   "outputs": [],
   "source": [
    "import json\n",
    "# with open (\"data.csv\",\"w\") as f:\n",
    "#     json.dump(data,f)"
   ]
  },
  {
   "cell_type": "code",
   "execution_count": 356,
   "id": "a1ce364d",
   "metadata": {},
   "outputs": [
    {
     "data": {
      "text/plain": [
       "[['Name', 'Age', 'City'],\n",
       " ['Ramij', 22, 'Kolkata'],\n",
       " ['John', 25, 'New York'],\n",
       " ['Alice', 30, 'London']]"
      ]
     },
     "execution_count": 356,
     "metadata": {},
     "output_type": "execute_result"
    }
   ],
   "source": [
    "# with open(\"data.csv\",\"r\") as f:\n",
    "#     data1=json.load(f)\n",
    "data1"
   ]
  },
  {
   "cell_type": "code",
   "execution_count": 358,
   "id": "88060252",
   "metadata": {},
   "outputs": [],
   "source": [
    "with open(\"binary.bin\",\"wb\") as f:\n",
    "    f.write(b\"\\00\\0\\0\\0\\0\\0\\0\\0\")"
   ]
  },
  {
   "cell_type": "code",
   "execution_count": null,
   "id": "c534de56",
   "metadata": {},
   "outputs": [],
   "source": []
  }
 ],
 "metadata": {
  "kernelspec": {
   "display_name": "Python 3",
   "language": "python",
   "name": "python3"
  },
  "language_info": {
   "codemirror_mode": {
    "name": "ipython",
    "version": 3
   },
   "file_extension": ".py",
   "mimetype": "text/x-python",
   "name": "python",
   "nbconvert_exporter": "python",
   "pygments_lexer": "ipython3",
   "version": "3.13.2"
  }
 },
 "nbformat": 4,
 "nbformat_minor": 5
}
