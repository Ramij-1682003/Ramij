{
 "cells": [
  {
   "cell_type": "code",
   "execution_count": null,
   "id": "ac21736e",
   "metadata": {},
   "outputs": [],
   "source": [
    "class skill:\n",
    "    m_no=123456\n",
    "    def __init__(self,name , email):\n",
    "        self.name=name\n",
    "        self.email=email\n",
    "    @classmethod            #used to pass values to class without creating object\n",
    "    def change_m_no(self,nobile):\n",
    "        self.m_no=nobile"
   ]
  },
  {
   "cell_type": "code",
   "execution_count": 38,
   "id": "988a286b",
   "metadata": {},
   "outputs": [
    {
     "data": {
      "text/plain": [
       "123456"
      ]
     },
     "execution_count": 38,
     "metadata": {},
     "output_type": "execute_result"
    }
   ],
   "source": [
    "skill(\"Ramij\",\"ramij@gmail.com\")   # object creation\n",
    "skill.m_no"
   ]
  },
  {
   "cell_type": "code",
   "execution_count": 39,
   "id": "7913b29f",
   "metadata": {},
   "outputs": [
    {
     "data": {
      "text/plain": [
       "789456"
      ]
     },
     "execution_count": 39,
     "metadata": {},
     "output_type": "execute_result"
    }
   ],
   "source": [
    "skill.change_m_no(789456)\n",
    "skill.m_no"
   ]
  },
  {
   "cell_type": "code",
   "execution_count": null,
   "id": "dafee2d2",
   "metadata": {},
   "outputs": [],
   "source": [
    "def course(self,course_name):\n",
    "    self.course_name=course_name\n",
    "    return self.course_name"
   ]
  },
  {
   "cell_type": "code",
   "execution_count": 31,
   "id": "aa8da3fc",
   "metadata": {},
   "outputs": [
    {
     "data": {
      "text/plain": [
       "'p'"
      ]
     },
     "execution_count": 31,
     "metadata": {},
     "output_type": "execute_result"
    }
   ],
   "source": [
    "skill.course=classmethod(course)  #adding method to class\n",
    "skill.course(\"p\")"
   ]
  },
  {
   "cell_type": "code",
   "execution_count": 58,
   "id": "b44dd4f6",
   "metadata": {},
   "outputs": [],
   "source": [
    "def mentor(self,mentor):\n",
    "    print(mentor)"
   ]
  },
  {
   "cell_type": "code",
   "execution_count": 61,
   "id": "f507a623",
   "metadata": {},
   "outputs": [
    {
     "name": "stdout",
     "output_type": "stream",
     "text": [
      "['ramij', 'sadiq', 'sadiq2']\n"
     ]
    }
   ],
   "source": [
    "skill.mentor=classmethod(mentor)\n",
    "skill.mentor([\"ramij\",\"sadiq\",\"sadiq2\"])"
   ]
  },
  {
   "cell_type": "code",
   "execution_count": 73,
   "id": "827be25b",
   "metadata": {},
   "outputs": [],
   "source": [
    "class skill_1:\n",
    "    m_no=123456\n",
    "    def __init__(self,name , email):\n",
    "        self.name=name\n",
    "        self.email=email\n",
    "    @classmethod            #used to pass values to class without creating object\n",
    "    def change_m_no(self,nobile):\n",
    "        self.m_no=nobile"
   ]
  },
  {
   "cell_type": "code",
   "execution_count": 74,
   "id": "58280812",
   "metadata": {},
   "outputs": [],
   "source": [
    "# del skill_1.change_m_no # used to delete any method in class\n",
    "delattr(skill_1,\"change_m_no\") # used to delete any attribute in class"
   ]
  },
  {
   "cell_type": "code",
   "execution_count": null,
   "id": "186c6248",
   "metadata": {},
   "outputs": [],
   "source": []
  }
 ],
 "metadata": {
  "kernelspec": {
   "display_name": "Python 3",
   "language": "python",
   "name": "python3"
  },
  "language_info": {
   "codemirror_mode": {
    "name": "ipython",
    "version": 3
   },
   "file_extension": ".py",
   "mimetype": "text/x-python",
   "name": "python",
   "nbconvert_exporter": "python",
   "pygments_lexer": "ipython3",
   "version": "3.13.2"
  }
 },
 "nbformat": 4,
 "nbformat_minor": 5
}
