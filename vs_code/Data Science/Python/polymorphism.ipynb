{
 "cells": [
  {
   "cell_type": "code",
   "execution_count": 1,
   "id": "c80634a9",
   "metadata": {},
   "outputs": [],
   "source": [
    "class name1:\n",
    "    def name(self):\n",
    "        return \"Ramij\"\n",
    "class name2:\n",
    "    def name(self):\n",
    "        return \"Ikbal\"\n",
    "    "
   ]
  },
  {
   "cell_type": "code",
   "execution_count": 2,
   "id": "3e27e459",
   "metadata": {},
   "outputs": [],
   "source": [
    "def display_(c_obj):\n",
    "    for i in c_obj:\n",
    "        i.name()\n"
   ]
  },
  {
   "cell_type": "code",
   "execution_count": 3,
   "id": "76121243",
   "metadata": {},
   "outputs": [],
   "source": [
    "name1=name1()\n",
    "name2=name2()"
   ]
  },
  {
   "cell_type": "code",
   "execution_count": 4,
   "id": "8c464bdd",
   "metadata": {},
   "outputs": [
    {
     "ename": "TypeError",
     "evalue": "display_() takes 1 positional argument but 2 were given",
     "output_type": "error",
     "traceback": [
      "\u001b[31m---------------------------------------------------------------------------\u001b[39m",
      "\u001b[31mTypeError\u001b[39m                                 Traceback (most recent call last)",
      "\u001b[36mCell\u001b[39m\u001b[36m \u001b[39m\u001b[32mIn[4]\u001b[39m\u001b[32m, line 2\u001b[39m\n\u001b[32m      1\u001b[39m \u001b[38;5;66;03m# display_=[name1,name2]\u001b[39;00m\n\u001b[32m----> \u001b[39m\u001b[32m2\u001b[39m \u001b[43mdisplay_\u001b[49m\u001b[43m(\u001b[49m\u001b[43mname1\u001b[49m\u001b[43m,\u001b[49m\u001b[43mname2\u001b[49m\u001b[43m)\u001b[49m\n",
      "\u001b[31mTypeError\u001b[39m: display_() takes 1 positional argument but 2 were given"
     ]
    }
   ],
   "source": [
    "# display_=[name1,name2]\n",
    "display_(name1,name2)"
   ]
  },
  {
   "cell_type": "code",
   "execution_count": null,
   "id": "61663791",
   "metadata": {},
   "outputs": [],
   "source": []
  }
 ],
 "metadata": {
  "kernelspec": {
   "display_name": "Python 3",
   "language": "python",
   "name": "python3"
  },
  "language_info": {
   "codemirror_mode": {
    "name": "ipython",
    "version": 3
   },
   "file_extension": ".py",
   "mimetype": "text/x-python",
   "name": "python",
   "nbconvert_exporter": "python",
   "pygments_lexer": "ipython3",
   "version": "3.13.2"
  }
 },
 "nbformat": 4,
 "nbformat_minor": 5
}
