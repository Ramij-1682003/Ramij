{
 "cells": [
  {
   "cell_type": "code",
   "execution_count": null,
   "metadata": {},
   "outputs": [
    {
     "name": "stdout",
     "output_type": "stream",
     "text": [
      "[2, 3, 4, 5, 6, 7, 8]\n"
     ]
    }
   ],
   "source": [
    "l=[1,2,3,4,5,6,7]\n",
    "# l1=[]\n",
    "# for i in l:\n",
    "#     # print(i+1)\n",
    "#     l1.append(i+1)\n",
    "# print(l1)"
   ]
  },
  {
   "cell_type": "code",
   "execution_count": 20,
   "metadata": {},
   "outputs": [
    {
     "name": "stdout",
     "output_type": "stream",
     "text": [
      "[2, 3, 4, 5, 6, 7, 8]\n"
     ]
    }
   ],
   "source": [
    "l1=[i+1 for i in l]\n",
    "print(l2)"
   ]
  },
  {
   "cell_type": "code",
   "execution_count": 2,
   "metadata": {},
   "outputs": [
    {
     "name": "stdout",
     "output_type": "stream",
     "text": [
      "RAMIJ \n",
      "SHAHRIAR\n",
      "SAKIB\n",
      "SAKIB\n"
     ]
    }
   ],
   "source": [
    "l2=[\"ramij \",\"shahriar\",\"sakib\",\"sakib\"]\n",
    "l3=[]\n",
    "for i in l2:\n",
    "    print(i.upper())\n",
    "    # l3.append(i.upper())"
   ]
  },
  {
   "cell_type": "code",
   "execution_count": 2,
   "metadata": {},
   "outputs": [
    {
     "name": "stdout",
     "output_type": "stream",
     "text": [
      "['ramij ', 'shahriar', 'sakib', 'sakib']\n",
      "[1, 4, 2, 7, 8, 6.7, 8.6, 2.6]\n"
     ]
    }
   ],
   "source": [
    "l4=[1,4,2,7,8,\"ramij \",\"shahriar\",\"sakib\",\"sakib\",6.7,8.6,2.6]\n",
    "l5=[]\n",
    "l6=[]\n",
    "for i in l4:\n",
    "    if type(i) == int or type(i)==float:\n",
    "        l5.append(i)\n",
    "    else:\n",
    "        l6.append(i)\n",
    "print(l6)\n",
    "print(l5)\n",
    "    "
   ]
  },
  {
   "cell_type": "code",
   "execution_count": null,
   "metadata": {},
   "outputs": [],
   "source": []
  },
  {
   "cell_type": "code",
   "execution_count": null,
   "metadata": {},
   "outputs": [],
   "source": []
  }
 ],
 "metadata": {
  "kernelspec": {
   "display_name": "Python 3 (ipykernel)",
   "language": "python",
   "name": "python3"
  },
  "language_info": {
   "codemirror_mode": {
    "name": "ipython",
    "version": 3
   },
   "file_extension": ".py",
   "mimetype": "text/x-python",
   "name": "python",
   "nbconvert_exporter": "python",
   "pygments_lexer": "ipython3",
   "version": "3.13.2"
  }
 },
 "nbformat": 4,
 "nbformat_minor": 4
}
